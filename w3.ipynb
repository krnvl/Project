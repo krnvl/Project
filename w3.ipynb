{
 "cells": [
  {
   "cell_type": "code",
   "execution_count": 1,
   "id": "199a4213",
   "metadata": {},
   "outputs": [
    {
     "name": "stdout",
     "output_type": "stream",
     "text": [
      "WARNING:tensorflow:From C:\\Users\\karis\\anaconda3\\Lib\\site-packages\\keras\\src\\losses.py:2976: The name tf.losses.sparse_softmax_cross_entropy is deprecated. Please use tf.compat.v1.losses.sparse_softmax_cross_entropy instead.\n",
      "\n"
     ]
    }
   ],
   "source": [
    "import yfinance as yf\n",
    "\n",
    "import os\n",
    "import pandas as pd\n",
    "import numpy as np\n",
    "import matplotlib.pyplot as plt\n",
    "import matplotlib.dates as mdates\n",
    "import csv\n",
    "import datetime\n",
    "import plotly.graph_objects as go\n",
    "from plotly.subplots import make_subplots\n",
    "import seaborn as sns\n",
    "import math\n",
    "\n",
    "# import Model\n",
    "import tensorflow as tf \n",
    "from keras.models import Sequential\n",
    "from keras.layers import Conv1D, MaxPooling1D, Flatten, Dense, TimeDistributed\n",
    "from keras.callbacks import EarlyStopping\n",
    "\n",
    "from keras.optimizers import Adam\n",
    "from sklearn.model_selection import train_test_split\n",
    "from tensorflow.keras.metrics import Accuracy\n",
    "from tensorflow.keras.metrics import RootMeanSquaredError\n",
    "\n",
    "from tensorflow.keras.utils import plot_model\n",
    "\n",
    "from sklearn.metrics import explained_variance_score, mean_poisson_deviance, mean_gamma_deviance\n",
    "from sklearn.metrics import r2_score\n",
    "from sklearn.metrics import max_error\n",
    "from sklearn.metrics import mean_squared_error\n",
    "from sklearn.preprocessing import MinMaxScaler\n",
    "from scipy.stats import ttest_ind"
   ]
  },
  {
   "cell_type": "code",
   "execution_count": 2,
   "id": "49c16c8c",
   "metadata": {},
   "outputs": [],
   "source": [
    "########### 4 saham"
   ]
  },
  {
   "cell_type": "code",
   "execution_count": 3,
   "id": "498c52f4",
   "metadata": {},
   "outputs": [
    {
     "name": "stderr",
     "output_type": "stream",
     "text": [
      "[*********************100%%**********************]  1 of 1 completed\n",
      "[*********************100%%**********************]  1 of 1 completed\n",
      "[*********************100%%**********************]  1 of 1 completed\n",
      "[*********************100%%**********************]  1 of 1 completed\n"
     ]
    }
   ],
   "source": [
    "# Load data\n",
    "LQ45 = yf.download(\"^JKLQ45\", start= \"2007-11-13\", end=\"2024-05-20\")\n",
    "ICBP = yf.download(\"ICBP.JK\", start= \"2007-11-13\", end=\"2024-05-20\")\n",
    "BBCA = yf.download(\"BBCA.JK\", start= \"2007-11-13\", end=\"2024-05-20\")\n",
    "JSMR = yf.download(\"JSMR.JK\", start= \"2007-11-13\", end=\"2024-05-20\")"
   ]
  },
  {
   "cell_type": "code",
   "execution_count": 4,
   "id": "601601c8",
   "metadata": {},
   "outputs": [
    {
     "data": {
      "text/plain": [
       "<bound method NDFrame.head of                   Open        High         Low       Close   Adj Close  \\\n",
       "Date                                                                     \n",
       "2007-11-13  588.679993  590.719971  578.190002  584.729980  584.729980   \n",
       "2007-11-14  596.700012  598.979980  589.659973  591.690002  591.690002   \n",
       "2007-11-15  592.669983  598.340027  588.440002  594.840027  594.840027   \n",
       "2007-11-16  585.729980  590.729980  579.500000  585.340027  585.340027   \n",
       "2007-11-19  588.530029  589.950012  577.729980  580.169983  580.169983   \n",
       "...                ...         ...         ...         ...         ...   \n",
       "2024-05-13  887.549988  897.210022  885.359985  895.549988  895.549988   \n",
       "2024-05-14  895.200012  898.780029  891.010010  892.580017  892.580017   \n",
       "2024-05-15  893.020020  904.780029  890.919983  901.400024  901.400024   \n",
       "2024-05-16  906.669983  912.590027  904.900024  909.309998  909.309998   \n",
       "2024-05-17  909.909973  925.640015  909.030029  919.510010  919.510010   \n",
       "\n",
       "                Volume  \n",
       "Date                    \n",
       "2007-11-13  3098900000  \n",
       "2007-11-14  3738600000  \n",
       "2007-11-15  2263800000  \n",
       "2007-11-16  1535800000  \n",
       "2007-11-19  1643300000  \n",
       "...                ...  \n",
       "2024-05-13  4269300000  \n",
       "2024-05-14  3244800000  \n",
       "2024-05-15  3419400000  \n",
       "2024-05-16  4888800000  \n",
       "2024-05-17  7429400000  \n",
       "\n",
       "[4003 rows x 6 columns]>"
      ]
     },
     "execution_count": 4,
     "metadata": {},
     "output_type": "execute_result"
    }
   ],
   "source": [
    "LQ45.head"
   ]
  },
  {
   "cell_type": "code",
   "execution_count": 5,
   "id": "7d712e00",
   "metadata": {},
   "outputs": [],
   "source": [
    "# Substitute 0 adj close with previous day's volume\n",
    "LQ45['Adj Close'] = LQ45['Adj Close'].replace(0, method='ffill')\n",
    "ICBP['Adj Close'] = ICBP['Adj Close'].replace(0, method='ffill')\n",
    "BBCA['Adj Close'] = BBCA['Adj Close'].replace(0, method='ffill')\n",
    "JSMR['Adj Close'] = JSMR['Adj Close'].replace(0, method='ffill')"
   ]
  },
  {
   "cell_type": "code",
   "execution_count": 6,
   "id": "2cf34bff",
   "metadata": {},
   "outputs": [],
   "source": [
    "# get returns from adj_close\n",
    "adj_close_LQ = LQ45.filter(['Adj Close'])\n",
    "returns_LQ = adj_close_LQ.pct_change().fillna(0)\n",
    "\n",
    "adj_close_ICBP = ICBP.filter(['Adj Close'])\n",
    "returns_ICBP = adj_close_ICBP.pct_change().fillna(0)\n",
    "\n",
    "adj_close_BBCA = BBCA.filter(['Adj Close'])\n",
    "returns_BBCA = adj_close_BBCA.pct_change().fillna(0)\n",
    "\n",
    "adj_close_JSMR = JSMR.filter(['Adj Close'])\n",
    "returns_JSMR = adj_close_JSMR.pct_change().fillna(0)"
   ]
  },
  {
   "cell_type": "code",
   "execution_count": 7,
   "id": "e7de481f",
   "metadata": {},
   "outputs": [],
   "source": [
    "# Resample daily returns to weekly returns\n",
    "LQ45_returns_weekly = returns_LQ.resample('W').sum()\n",
    "ICBP_returns_weekly = returns_ICBP.resample('W').sum()\n",
    "BBCA_returns_weekly = returns_BBCA.resample('W').sum()\n",
    "JSMR_returns_weekly = returns_JSMR.resample('W').sum()"
   ]
  },
  {
   "cell_type": "code",
   "execution_count": 8,
   "id": "17816bb6",
   "metadata": {},
   "outputs": [
    {
     "data": {
      "text/plain": [
       "<bound method NDFrame.head of             Adj Close\n",
       "Date                 \n",
       "2007-11-18   0.001256\n",
       "2007-11-25  -0.037405\n",
       "2007-12-02   0.049754\n",
       "2007-12-09   0.035262\n",
       "2007-12-16  -0.016101\n",
       "...               ...\n",
       "2024-04-21  -0.045467\n",
       "2024-04-28  -0.023241\n",
       "2024-05-05   0.005772\n",
       "2024-05-12  -0.010960\n",
       "2024-05-19   0.028931\n",
       "\n",
       "[862 rows x 1 columns]>"
      ]
     },
     "execution_count": 8,
     "metadata": {},
     "output_type": "execute_result"
    }
   ],
   "source": [
    "LQ45_returns_weekly.head"
   ]
  },
  {
   "cell_type": "code",
   "execution_count": 9,
   "id": "86319f03",
   "metadata": {},
   "outputs": [
    {
     "data": {
      "text/plain": [
       "<bound method NDFrame.head of             Adj Close\n",
       "Date                 \n",
       "2007-11-18   0.046219\n",
       "2007-11-25  -0.098523\n",
       "2007-12-02   0.002168\n",
       "2007-12-09   0.021978\n",
       "2007-12-16  -0.008628\n",
       "...               ...\n",
       "2024-04-21  -0.106229\n",
       "2024-04-28   0.087907\n",
       "2024-05-05   0.024829\n",
       "2024-05-12  -0.006912\n",
       "2024-05-19  -0.019680\n",
       "\n",
       "[862 rows x 1 columns]>"
      ]
     },
     "execution_count": 9,
     "metadata": {},
     "output_type": "execute_result"
    }
   ],
   "source": [
    "ICBP_returns_weekly.head"
   ]
  },
  {
   "cell_type": "code",
   "execution_count": 10,
   "id": "d501a4f4",
   "metadata": {},
   "outputs": [
    {
     "data": {
      "text/plain": [
       "<bound method NDFrame.head of             Adj Close\n",
       "Date                 \n",
       "2007-11-18  -0.006444\n",
       "2007-11-25  -0.019860\n",
       "2007-12-02   0.052017\n",
       "2007-12-09   0.055424\n",
       "2007-12-16  -0.012937\n",
       "...               ...\n",
       "2024-04-21  -0.035596\n",
       "2024-04-28   0.017117\n",
       "2024-05-05   0.024085\n",
       "2024-05-12  -0.048785\n",
       "2024-05-19   0.039540\n",
       "\n",
       "[862 rows x 1 columns]>"
      ]
     },
     "execution_count": 10,
     "metadata": {},
     "output_type": "execute_result"
    }
   ],
   "source": [
    "BBCA_returns_weekly.head"
   ]
  },
  {
   "cell_type": "code",
   "execution_count": 11,
   "id": "4058a7ce",
   "metadata": {},
   "outputs": [
    {
     "data": {
      "text/plain": [
       "<bound method NDFrame.head of             Adj Close\n",
       "Date                 \n",
       "2007-11-18  -0.012346\n",
       "2007-11-25  -0.075587\n",
       "2007-12-02   0.044101\n",
       "2007-12-09   0.024028\n",
       "2007-12-16  -0.022850\n",
       "...               ...\n",
       "2024-04-21  -0.012778\n",
       "2024-04-28  -0.070677\n",
       "2024-05-05  -0.002065\n",
       "2024-05-12   0.038350\n",
       "2024-05-19  -0.038764\n",
       "\n",
       "[862 rows x 1 columns]>"
      ]
     },
     "execution_count": 11,
     "metadata": {},
     "output_type": "execute_result"
    }
   ],
   "source": [
    "JSMR_returns_weekly.head"
   ]
  },
  {
   "cell_type": "code",
   "execution_count": 13,
   "id": "39b29372",
   "metadata": {},
   "outputs": [
    {
     "name": "stdout",
     "output_type": "stream",
     "text": [
      "Weekly returns combined and saved to             LQ45 Returns  ICBP Returns  BBCA returns  JSMR returns\n",
      "Date                                                              \n",
      "2007-11-18      0.001256      0.046219     -0.006444     -0.012346\n",
      "2007-11-25     -0.037405     -0.098523     -0.019860     -0.075587\n",
      "2007-12-02      0.049754      0.002168      0.052017      0.044101\n",
      "2007-12-09      0.035262      0.021978      0.055424      0.024028\n",
      "2007-12-16     -0.016101     -0.008628     -0.012937     -0.022850\n",
      "...                  ...           ...           ...           ...\n",
      "2024-04-21     -0.045467     -0.106229     -0.035596     -0.012778\n",
      "2024-04-28     -0.023241      0.087907      0.017117     -0.070677\n",
      "2024-05-05      0.005772      0.024829      0.024085     -0.002065\n",
      "2024-05-12     -0.010960     -0.006912     -0.048785      0.038350\n",
      "2024-05-19      0.028931     -0.019680      0.039540     -0.038764\n",
      "\n",
      "[862 rows x 4 columns]\n"
     ]
    }
   ],
   "source": [
    "# Combine the two DataFrames\n",
    "weekly_returns_4stocks = pd.concat([LQ45_returns_weekly, ICBP_returns_weekly, BBCA_returns_weekly, JSMR_returns_weekly], axis=1)\n",
    "weekly_returns_4stocks.columns = ['LQ45 Returns', 'ICBP Returns', 'BBCA returns','JSMR returns']\n",
    "\n",
    "# Save the combined DataFrame to a CSV file\n",
    "weekly_returns_4stocks.to_csv('../out/weekly_returns_4stocks.csv', index=True)  # index=True to include the date index in the CSV\n",
    "\n",
    "print(f\"Weekly returns combined and saved to {weekly_returns_4stocks}\")"
   ]
  }
 ],
 "metadata": {
  "kernelspec": {
   "display_name": "Python 3 (ipykernel)",
   "language": "python",
   "name": "python3"
  },
  "language_info": {
   "codemirror_mode": {
    "name": "ipython",
    "version": 3
   },
   "file_extension": ".py",
   "mimetype": "text/x-python",
   "name": "python",
   "nbconvert_exporter": "python",
   "pygments_lexer": "ipython3",
   "version": "3.11.5"
  }
 },
 "nbformat": 4,
 "nbformat_minor": 5
}
